{
 "cells": [
  {
   "cell_type": "markdown",
   "id": "9ccf3dab",
   "metadata": {},
   "source": [
    "# Tensorflow Callbacks\n",
    "\n",
    "Callbacks helps in preventing overfitting, to visualize training process, save checkpoints, debug the code etc..\n",
    "\n",
    "\n",
    "\n",
    "\n",
    "Callbacks can be passed to keras methods such as fit, evaluate, and predict in order to hook into the various stages of the model training and inference lifecycle."
   ]
  },
  {
   "cell_type": "code",
   "execution_count": 1,
   "id": "27112f59",
   "metadata": {},
   "outputs": [
    {
     "name": "stderr",
     "output_type": "stream",
     "text": [
      "/Library/Frameworks/Python.framework/Versions/3.9/lib/python3.9/site-packages/tqdm/auto.py:21: TqdmWarning: IProgress not found. Please update jupyter and ipywidgets. See https://ipywidgets.readthedocs.io/en/stable/user_install.html\n",
      "  from .autonotebook import tqdm as notebook_tqdm\n"
     ]
    }
   ],
   "source": [
    "# Import necessary libraries\n",
    "import tensorflow as tf\n",
    "import tensorflow_datasets as tfdt\n",
    "import matplotlib.pyplot as plt\n",
    "from tensorflow.keras.preprocessing.image import ImageDataGenerator\n",
    "\n",
    "import datetime"
   ]
  },
  {
   "cell_type": "markdown",
   "id": "1c9a8f60",
   "metadata": {},
   "source": [
    "Load the dataset for our experiment"
   ]
  },
  {
   "cell_type": "code",
   "execution_count": 2,
   "id": "2f5c3ebb",
   "metadata": {},
   "outputs": [],
   "source": [
    "data, info = tfdt.load('mnist', split = 'train[80%:]', with_info = True, as_supervised = True)"
   ]
  },
  {
   "cell_type": "code",
   "execution_count": 3,
   "id": "7fb9b5d1",
   "metadata": {},
   "outputs": [
    {
     "name": "stderr",
     "output_type": "stream",
     "text": [
      "2024-06-23 11:01:39.498650: W tensorflow/core/kernels/data/cache_dataset_ops.cc:858] The calling iterator did not fully read the dataset being cached. In order to avoid unexpected truncation of the dataset, the partially cached contents of the dataset  will be discarded. This can happen if you have an input pipeline similar to `dataset.cache().take(k).repeat()`. You should use `dataset.take(k).cache().repeat()` instead.\n",
      "2024-06-23 11:01:39.498752: W tensorflow/core/framework/local_rendezvous.cc:404] Local rendezvous is aborting with status: OUT_OF_RANGE: End of sequence\n"
     ]
    },
    {
     "data": {
      "text/html": [
       "<style type=\"text/css\">\n",
       "</style>\n",
       "<table id=\"T_02c5e\">\n",
       "  <thead>\n",
       "    <tr>\n",
       "      <th class=\"blank level0\" >&nbsp;</th>\n",
       "      <th id=\"T_02c5e_level0_col0\" class=\"col_heading level0 col0\" >image</th>\n",
       "      <th id=\"T_02c5e_level0_col1\" class=\"col_heading level0 col1\" >label</th>\n",
       "    </tr>\n",
       "  </thead>\n",
       "  <tbody>\n",
       "    <tr>\n",
       "      <th id=\"T_02c5e_level0_row0\" class=\"row_heading level0 row0\" >0</th>\n",
       "      <td id=\"T_02c5e_row0_col0\" class=\"data row0 col0\" ><img src=\"data:image/png;base64,iVBORw0KGgoAAAANSUhEUgAAABwAAAAcCAAAAABXZoBIAAABAElEQVR4nNXRr0tDYRTG8Wdydze4wYmguKAGhTlQixoGBmcbGFZMFpPokoiCGLT4XxgEk16TZTBwzSYIU4bJZDC4tDDwx/eaZPedx2D0tPN+Duc9532l/xQJN83OzQ7NVB6syv6VBsDJd+51e+TCgREp+tCnX+rUIqf/IcDdRlHB6jstL26ah8etJV9KHQC77n0B5CXJC+FlMeniDtwOSsEFvKZ7Jx0Dbgr+OYSTPxfebEPjGI5S1pajTYBL3zKpDLBgmxJnwF6fjekngEz3IF43PS5JeRu31VmTlm1s6arqfGEcy5pYj3RvD9QEuDbfQJp65u00Y5s0vF/P/WZ/iy8JeWDGDmjRCwAAAABJRU5ErkJggg==\" alt=\"Img\" /></td>\n",
       "      <td id=\"T_02c5e_row0_col1\" class=\"data row0 col1\" >8</td>\n",
       "    </tr>\n",
       "    <tr>\n",
       "      <th id=\"T_02c5e_level0_row1\" class=\"row_heading level0 row1\" >1</th>\n",
       "      <td id=\"T_02c5e_row1_col0\" class=\"data row1 col0\" ><img src=\"data:image/png;base64,iVBORw0KGgoAAAANSUhEUgAAABwAAAAcCAAAAABXZoBIAAAAwElEQVR4nGNgGHjAW/nvnxIuyVl///4tPfvqvi42yaV/IaAEU4p/zou/f//+vXSsUAZTMuLv379vFgUJYTOT9eLfP29Mcbhmwd+/s3C51ODd3xdGuCRf/t0vhiLAhGBmCzP8fIVLUpyRgZcXl6l6r//+3WOFx0F/tznhki199vfvN1ySDD54JL3P4JRUrPrx9++3Agy7pHi12jbf/Pv305ViDD3/bu76+/fv37+73LAY+O/v379//24r4cHpUvoBAKJUXVZEJ48LAAAAAElFTkSuQmCC\" alt=\"Img\" /></td>\n",
       "      <td id=\"T_02c5e_row1_col1\" class=\"data row1 col1\" >5</td>\n",
       "    </tr>\n",
       "    <tr>\n",
       "      <th id=\"T_02c5e_level0_row2\" class=\"row_heading level0 row2\" >2</th>\n",
       "      <td id=\"T_02c5e_row2_col0\" class=\"data row2 col0\" ><img src=\"data:image/png;base64,iVBORw0KGgoAAAANSUhEUgAAABwAAAAcCAAAAABXZoBIAAAA+0lEQVR4nMWPvyuFYRTHv2/33vxM2aTIoDBQbzGRrsWMZJSyGMRivAv/hW7ZblmUxIa3LpuJa2CQkom6hW7i+hyWt9dD77PyXc5zzuf5fk9H+j/lCrVPuy6Wi0MpME+sG2eYjetzJEkaaW33hnfcW+RjXYew4mFhFRaz6WzhFpY8vsF3eBj3wA0wPk5We9Jg224FgPpyqrcxDNcr8LYz7AnX3IXxNOCjLXuwGTiDzGTzd9MJNLm/OehLmgJ2nvsBOZuK3zM1mHf3BLOPVt/uloLR/VdjzTVKyt/By/FRZGBbv5jUWzIMjNOxTBKY0IbpCan/6rJU9R35J/oCh3xuBRXwoQEAAAAASUVORK5CYII=\" alt=\"Img\" /></td>\n",
       "      <td id=\"T_02c5e_row2_col1\" class=\"data row2 col1\" >3</td>\n",
       "    </tr>\n",
       "    <tr>\n",
       "      <th id=\"T_02c5e_level0_row3\" class=\"row_heading level0 row3\" >3</th>\n",
       "      <td id=\"T_02c5e_row3_col0\" class=\"data row3 col0\" ><img src=\"data:image/png;base64,iVBORw0KGgoAAAANSUhEUgAAABwAAAAcCAAAAABXZoBIAAAA90lEQVR4nNWQsUtCURyFj2IY5RARJUGBQ4tTQWjQGLTZ0HMIoaVNHPo3HFwiWnIpgvZ4S9Af0GQQDpG5hWKESLRI8lmD3np034XWvunw+zgH7pX+IZG4dz/8HF4cTNgufgQw+ICnlCU9GFQPC6U+NCxbhhNJytXg8uccM+FOkvz+tTILL+YWNWHWhNT+r9ksPM9IUvIRzr7Po2b9VYs3m5I6VyHvTPtQq24sFbrBpmH9FqAJ0Jq37GSlzZjlkOmVrOf7uw+wFSJHFOHUKTM9unNOW4ftcYxa8ljaWXM19+D9bVpS4OODTCniaMbOgYRrd7VH3tX8K18km2VtmgoCuwAAAABJRU5ErkJggg==\" alt=\"Img\" /></td>\n",
       "      <td id=\"T_02c5e_row3_col1\" class=\"data row3 col1\" >9</td>\n",
       "    </tr>\n",
       "  </tbody>\n",
       "</table>\n"
      ],
      "text/plain": [
       "                                               image  label\n",
       "0  [[[0], [0], [0], [0], [0], [0], [0], [0], [0],...      8\n",
       "1  [[[0], [0], [0], [0], [0], [0], [0], [0], [0],...      5\n",
       "2  [[[0], [0], [0], [0], [0], [0], [0], [0], [0],...      3\n",
       "3  [[[0], [0], [0], [0], [0], [0], [0], [0], [0],...      9"
      ]
     },
     "execution_count": 3,
     "metadata": {},
     "output_type": "execute_result"
    }
   ],
   "source": [
    "tfdt.as_dataframe(data.take(4),info)"
   ]
  },
  {
   "cell_type": "code",
   "execution_count": 4,
   "id": "4eba1fc1",
   "metadata": {},
   "outputs": [
    {
     "name": "stderr",
     "output_type": "stream",
     "text": [
      "2024-06-23 11:01:39.713370: W tensorflow/core/kernels/data/cache_dataset_ops.cc:858] The calling iterator did not fully read the dataset being cached. In order to avoid unexpected truncation of the dataset, the partially cached contents of the dataset  will be discarded. This can happen if you have an input pipeline similar to `dataset.cache().take(k).repeat()`. You should use `dataset.take(k).cache().repeat()` instead.\n",
      "2024-06-23 11:01:39.720992: W tensorflow/core/framework/local_rendezvous.cc:404] Local rendezvous is aborting with status: OUT_OF_RANGE: End of sequence\n"
     ]
    },
    {
     "data": {
      "image/png": "[encoded data removed]",
      "text/plain": [
       "<Figure size 900x900 with 9 Axes>"
      ]
     },
     "metadata": {},
     "output_type": "display_data"
    }
   ],
   "source": [
    "fig = tfdt.show_examples(data, info)"
   ]
  },
  {
   "cell_type": "code",
   "execution_count": 5,
   "id": "c457d51a",
   "metadata": {},
   "outputs": [
    {
     "name": "stdout",
     "output_type": "stream",
     "text": [
      "Number of labels: 10\n",
      "Label names: ['0', '1', '2', '3', '4', '5', '6', '7', '8', '9']\n",
      "Image shape: (28, 28, 1)\n",
      "The index 7 corresponds to digit 7\n",
      "The digit 9 corresponds to index 9\n"
     ]
    }
   ],
   "source": [
    "print(f\"Number of labels: {info.features['label'].num_classes}\")\n",
    "print(f\"Label names: {info.features['label'].names}\")\n",
    "print(f\"Image shape: {info.features['image'].shape}\")\n",
    "\n",
    "print(f\"The index 7 corresponds to digit {info.features['label'].int2str(7)}\")\n",
    "print(f\"The digit 9 corresponds to index {info.features['label'].str2int('9')}\")"
   ]
  },
  {
   "cell_type": "code",
   "execution_count": 6,
   "id": "66604049",
   "metadata": {},
   "outputs": [
    {
     "name": "stdout",
     "output_type": "stream",
     "text": [
      "Training images : 9600\n",
      "Testing images : 2400\n"
     ]
    }
   ],
   "source": [
    "# Set the variables\n",
    "\n",
    "IMAGE_SIZE = (28,28)\n",
    "BATCH_SIZE = 32\n",
    "EPOCHS = 5\n",
    "\n",
    "# Divide the dataset into training and test\n",
    "training_split = data.take(int(len(data)*0.8))\n",
    "testing_split = data.skip(int(len(data)*0.8))\n",
    "\n",
    "print(f\"Training images : {len(training_split)}\")\n",
    "print(f\"Testing images : {len(testing_split)}\")"
   ]
  },
  {
   "cell_type": "code",
   "execution_count": 7,
   "id": "b208f6d3",
   "metadata": {},
   "outputs": [],
   "source": [
    "# Since we have the images with use in dataframe, we will be manually rescaling them and dividing them to batches.\n",
    "\n",
    "rescale_layer = tf.keras.layers.Rescaling(1/255.)\n",
    "\n",
    "#Building training pipeline\n",
    "#1. scale the dataset\n",
    "train_data = training_split.map(lambda x,y: (rescale_layer(x, training=True), y))\n",
    "#2. Cache the dataset for better performance\n",
    "train_data = train_data.cache()\n",
    "#3. Suffle the data\n",
    "train_data = train_data.shuffle(len(train_data))\n",
    "#4. Divide the data into batches\n",
    "train_data = train_data.batch(batch_size = 32)\n",
    "#5. End with prefetch for better performance\n",
    "train_data = train_data.prefetch(buffer_size = tf.data.AUTOTUNE) #AUTOTUNE helps in dynamic tunning based on available resources.\n",
    "\n",
    "\n",
    "# Similarly building testing pipeline\n",
    "test_data = testing_split.map(lambda x,y: (rescale_layer(x, training=True), y))\n",
    "test_data = test_data.cache()\n",
    "test_data = test_data.batch(batch_size = 32)\n",
    "test_data = test_data.prefetch(buffer_size = tf.data.AUTOTUNE)\n",
    "\n"
   ]
  },
  {
   "cell_type": "markdown",
   "id": "9957eee7",
   "metadata": {},
   "source": [
    "\n",
    "## tf.keras.callbacks.ModelCheckpoint \n",
    "\n",
    "Callback to save the Keras model or model weights at some frequency.\n",
    "\n",
    "From Docs:\n",
    "ModelCheckpoint callback is used in conjunction with training using model.fit() to save a model or weights (in a checkpoint file) at some interval, so the model or weights can be loaded later to continue the training from the state saved.\n",
    "\n",
    "https://www.tensorflow.org/api_docs/python/tf/keras/callbacks/ModelCheckpoint\n"
   ]
  },
  {
   "cell_type": "code",
   "execution_count": 19,
   "id": "8d586796",
   "metadata": {},
   "outputs": [],
   "source": [
    "def create_checkpoint_callback(experiment, monitor=\"val_loss\", patience = 100):\n",
    "    mc_callback_directory = './callback_examples/model_checkpoint/' + experiment + '_' + datetime.datetime.now().strftime(\"%Y%m%d-%H%M%S\")+ '.weights.h5'\n",
    "    checkpoint_callback = tf.keras.callbacks.ModelCheckpoint(\n",
    "        filepath = mc_callback_directory,\n",
    "        save_weights_only = True,\n",
    "        monitor=monitor,\n",
    "        mode='max')\n",
    "    return checkpoint_callback"
   ]
  },
  {
   "cell_type": "markdown",
   "id": "d2362bad-2e69-4efb-a022-11a821c149bf",
   "metadata": {},
   "source": [
    "## tf.keras.callbacks.EarlyStopping\n",
    "\n",
    "Callback that will help stop the model from further learning when specific conditions are met.\n",
    "\n",
    "From Docs: A model.fit() training loop will check at end of every epoch whether the loss is no longer decreasing, considering the min_delta and patience if applicable. Once it's found no longer decreasing, model.stop_training is marked True and the training terminates.\n",
    "\n",
    "https://www.tensorflow.org/api_docs/python/tf/keras/callbacks/EarlyStopping"
   ]
  },
  {
   "cell_type": "code",
   "execution_count": 9,
   "id": "d6fe7302-a236-4bf8-bcf3-6a19bab02867",
   "metadata": {},
   "outputs": [],
   "source": [
    "def create_earlystopping_callback(metric = \"val_loss\", patience = 10):\n",
    "    \"\"\"\n",
    "    Creates the Early stopping callback for the specified metrics\n",
    "    :param metric: It can be \"val_loss\" or \"val_accuracy\"\n",
    "    :param patience: Number of epochs with no improvement after which training will be stopped\n",
    "    :return: Callbacks\n",
    "    \"\"\"\n",
    "    return tf.keras.callbacks.EarlyStopping(monitor = metric,\n",
    "                                            patience = patience,\n",
    "                                            restore_best_weights=True)"
   ]
  },
  {
   "cell_type": "markdown",
   "id": "77da601b-00e9-48d5-8f1c-722311a7d4b2",
   "metadata": {},
   "source": [
    "## tf.keras.callbacks.LearningRateScheduler\n",
    "\n",
    "Callback that will help change the learning rate.\n",
    "\n",
    "From Docs: At the beginning of every epoch, this callback gets the updated learning rate value from schedule function provided at __init__, with the current epoch and current learning rate, and applies the updated learning rate on the optimizer.\n",
    "\n",
    "https://www.tensorflow.org/api_docs/python/tf/keras/callbacks/LearningRateScheduler"
   ]
  },
  {
   "cell_type": "code",
   "execution_count": 10,
   "id": "061d295f-c67a-40eb-8b28-756dca812d9d",
   "metadata": {},
   "outputs": [],
   "source": [
    "# Scheduler\n",
    "def scheduler_1(epoch, lr):\n",
    "    if epoch <10:\n",
    "        return lr\n",
    "    else:\n",
    "        return lr * math.exp(-0.1)\n",
    "\n",
    "def create_learningratescheduler():\n",
    "    return tf.keras.callbacks.LearningRateScheduler(scheduler_1,\n",
    "                                           verbose = 0)"
   ]
  },
  {
   "cell_type": "markdown",
   "id": "20ba790e-c04b-43fb-a67a-b57ec9ed802b",
   "metadata": {},
   "source": [
    "## tf.keras.callbacks.Tensorboard\n",
    "\n",
    "Enable visualizations for TensorBoard.\n",
    "\n",
    "From docs: TensorBoard is a visualization tool provided with TensorFlow. A TensorFlow installation is required to use this callback.\n",
    "\n",
    "This callback logs events for TensorBoard, including:\n",
    "* Metrics summary plots\n",
    "* Training graph visualization\n",
    "* Weight histograms\n",
    "* Sampled profiling\n",
    "  \n",
    "When used in model.evaluate() or regular validation in addition to epoch summaries, there will be a summary that records evaluation metrics vs model.optimizer.iterations written. The metric names will be prepended with evaluation, with model.optimizer.iterations being the step in the visualized TensorBoard.\n",
    "\n",
    "https://www.tensorflow.org/api_docs/python/tf/keras/callbacks/TensorBoard"
   ]
  },
  {
   "cell_type": "code",
   "execution_count": 17,
   "id": "d6dd2feb-c639-4bb3-ab33-3109bd9e1bc6",
   "metadata": {},
   "outputs": [],
   "source": [
    "def create_tensorboard(filepath, exp_name):\n",
    "    \"\"\"\n",
    "    Creates Tensor Board in the specified Path\n",
    "    :param filepath: To create the logs\n",
    "    :param exp_name: experiment name\n",
    "    :return: Callback\n",
    "    \"\"\"\n",
    "    log_dir =  filepath + \"/\" + exp_name + \"_\" + datetime.datetime.now().strftime(\"%Y%m%d-%H%M%S\")\n",
    "    print(f\"Saving tensor Board Logs in {log_dir}\")\n",
    "    return tf.keras.callbacks.TensorBoard(log_dir=log_dir)"
   ]
  },
  {
   "cell_type": "markdown",
   "id": "c5d07b47-402b-4b85-871e-408a906e3b82",
   "metadata": {},
   "source": [
    "## Trying the Callbacks on the model"
   ]
  },
  {
   "cell_type": "code",
   "execution_count": 22,
   "id": "dfa376c7",
   "metadata": {},
   "outputs": [],
   "source": [
    "# Create a model\n",
    "model_1 = tf.keras.Sequential([\n",
    "    tf.keras.layers.Conv2D(10, (3,3), activation = \"relu\"),\n",
    "    tf.keras.layers.Conv2D(10, (3,3), activation = \"relu\"),\n",
    "    tf.keras.layers.MaxPool2D(),\n",
    "    tf.keras.layers.Conv2D(10, (3,3), activation = \"relu\"),\n",
    "    tf.keras.layers.MaxPool2D(),\n",
    "    tf.keras.layers.Conv2D(10, (3,3), activation = \"relu\"),\n",
    "    tf.keras.layers.Flatten(),\n",
    "    tf.keras.layers.Dense(10, activation = \"softmax\")\n",
    "])"
   ]
  },
  {
   "cell_type": "code",
   "execution_count": 23,
   "id": "6ef8bf42-67c2-4228-8428-5f30d0cdf608",
   "metadata": {},
   "outputs": [],
   "source": [
    "model_1.compile(loss =tf.keras.losses.SparseCategoricalCrossentropy(),\n",
    "                optimizer = tf.keras.optimizers.Adam(),\n",
    "                metrics = [\"accuracy\"])                "
   ]
  },
  {
   "cell_type": "code",
   "execution_count": 24,
   "id": "baa63136-d77c-44b4-b752-de48aaf39c77",
   "metadata": {},
   "outputs": [
    {
     "name": "stdout",
     "output_type": "stream",
     "text": [
      "Saving tensor Board Logs in ./callback_examples/callbacks_tensorboard/model_1_20240623-111651\n",
      "Epoch 1/100\n"
     ]
    },
    {
     "name": "stderr",
     "output_type": "stream",
     "text": [
      "2024-06-23 11:16:51.953723: W tensorflow/core/kernels/data/cache_dataset_ops.cc:858] The calling iterator did not fully read the dataset being cached. In order to avoid unexpected truncation of the dataset, the partially cached contents of the dataset  will be discarded. This can happen if you have an input pipeline similar to `dataset.cache().take(k).repeat()`. You should use `dataset.take(k).cache().repeat()` instead.\n"
     ]
    },
    {
     "name": "stdout",
     "output_type": "stream",
     "text": [
      "\u001b[1m300/300\u001b[0m \u001b[32m━━━━━━━━━━━━━━━━━━━━\u001b[0m\u001b[37m\u001b[0m \u001b[1m3s\u001b[0m 5ms/step - accuracy: 0.3722 - loss: 1.7427 - val_accuracy: 0.8819 - val_loss: 0.4229\n",
      "Epoch 2/100\n",
      "\u001b[1m300/300\u001b[0m \u001b[32m━━━━━━━━━━━━━━━━━━━━\u001b[0m\u001b[37m\u001b[0m \u001b[1m0s\u001b[0m 143us/step - accuracy: 0.0000e+00 - loss: 0.0000e+00 - val_accuracy: 0.8576 - val_loss: 0.5005\n",
      "Epoch 3/100\n",
      "\u001b[1m 24/300\u001b[0m \u001b[32m━\u001b[0m\u001b[37m━━━━━━━━━━━━━━━━━━━\u001b[0m \u001b[1m1s\u001b[0m 5ms/step - accuracy: 0.8993 - loss: 0.3185"
     ]
    },
    {
     "name": "stderr",
     "output_type": "stream",
     "text": [
      "2024-06-23 11:16:53.725576: W tensorflow/core/framework/local_rendezvous.cc:404] Local rendezvous is aborting with status: OUT_OF_RANGE: End of sequence\n",
      "\t [[{{node IteratorGetNext}}]]\n",
      "/Library/Frameworks/Python.framework/Versions/3.9/lib/python3.9/contextlib.py:137: UserWarning: Your input ran out of data; interrupting training. Make sure that your dataset or generator can generate at least `steps_per_epoch * epochs` batches. You may need to use the `.repeat()` function when building your dataset.\n",
      "  self.gen.throw(typ, value, traceback)\n"
     ]
    },
    {
     "name": "stdout",
     "output_type": "stream",
     "text": [
      "\u001b[1m300/300\u001b[0m \u001b[32m━━━━━━━━━━━━━━━━━━━━\u001b[0m\u001b[37m\u001b[0m \u001b[1m1s\u001b[0m 5ms/step - accuracy: 0.9009 - loss: 0.3202 - val_accuracy: 0.9236 - val_loss: 0.2089\n",
      "Epoch 4/100\n",
      "\u001b[1m300/300\u001b[0m \u001b[32m━━━━━━━━━━━━━━━━━━━━\u001b[0m\u001b[37m\u001b[0m \u001b[1m0s\u001b[0m 141us/step - accuracy: 0.0000e+00 - loss: 0.0000e+00 - val_accuracy: 0.9306 - val_loss: 0.2784\n",
      "Epoch 5/100\n",
      "\u001b[1m 24/300\u001b[0m \u001b[32m━\u001b[0m\u001b[37m━━━━━━━━━━━━━━━━━━━\u001b[0m \u001b[1m1s\u001b[0m 5ms/step - accuracy: 0.9302 - loss: 0.2333"
     ]
    },
    {
     "name": "stderr",
     "output_type": "stream",
     "text": [
      "2024-06-23 11:16:55.163648: W tensorflow/core/framework/local_rendezvous.cc:404] Local rendezvous is aborting with status: OUT_OF_RANGE: End of sequence\n",
      "\t [[{{node IteratorGetNext}}]]\n"
     ]
    },
    {
     "name": "stdout",
     "output_type": "stream",
     "text": [
      "\u001b[1m300/300\u001b[0m \u001b[32m━━━━━━━━━━━━━━━━━━━━\u001b[0m\u001b[37m\u001b[0m \u001b[1m1s\u001b[0m 5ms/step - accuracy: 0.9318 - loss: 0.2138 - val_accuracy: 0.9583 - val_loss: 0.1162\n",
      "Epoch 6/100\n",
      "\u001b[1m300/300\u001b[0m \u001b[32m━━━━━━━━━━━━━━━━━━━━\u001b[0m\u001b[37m\u001b[0m \u001b[1m0s\u001b[0m 124us/step - accuracy: 0.0000e+00 - loss: 0.0000e+00 - val_accuracy: 0.9410 - val_loss: 0.2005\n",
      "Epoch 7/100\n",
      "\u001b[1m 24/300\u001b[0m \u001b[32m━\u001b[0m\u001b[37m━━━━━━━━━━━━━━━━━━━\u001b[0m \u001b[1m1s\u001b[0m 5ms/step - accuracy: 0.9367 - loss: 0.1690"
     ]
    },
    {
     "name": "stderr",
     "output_type": "stream",
     "text": [
      "2024-06-23 11:16:56.561956: W tensorflow/core/framework/local_rendezvous.cc:404] Local rendezvous is aborting with status: OUT_OF_RANGE: End of sequence\n",
      "\t [[{{node IteratorGetNext}}]]\n",
      "2024-06-23 11:16:56.585076: W tensorflow/core/framework/local_rendezvous.cc:404] Local rendezvous is aborting with status: OUT_OF_RANGE: End of sequence\n",
      "\t [[{{node IteratorGetNext}}]]\n"
     ]
    },
    {
     "name": "stdout",
     "output_type": "stream",
     "text": [
      "\u001b[1m300/300\u001b[0m \u001b[32m━━━━━━━━━━━━━━━━━━━━\u001b[0m\u001b[37m\u001b[0m \u001b[1m1s\u001b[0m 5ms/step - accuracy: 0.9461 - loss: 0.1616 - val_accuracy: 0.9323 - val_loss: 0.2329\n",
      "Epoch 8/100\n",
      "\u001b[1m300/300\u001b[0m \u001b[32m━━━━━━━━━━━━━━━━━━━━\u001b[0m\u001b[37m\u001b[0m \u001b[1m0s\u001b[0m 134us/step - accuracy: 0.0000e+00 - loss: 0.0000e+00 - val_accuracy: 0.9497 - val_loss: 0.1293\n",
      "Epoch 9/100\n",
      "\u001b[1m 24/300\u001b[0m \u001b[32m━\u001b[0m\u001b[37m━━━━━━━━━━━━━━━━━━━\u001b[0m \u001b[1m1s\u001b[0m 5ms/step - accuracy: 0.9572 - loss: 0.1227"
     ]
    },
    {
     "name": "stderr",
     "output_type": "stream",
     "text": [
      "2024-06-23 11:16:58.029775: W tensorflow/core/framework/local_rendezvous.cc:404] Local rendezvous is aborting with status: OUT_OF_RANGE: End of sequence\n",
      "\t [[{{node IteratorGetNext}}]]\n"
     ]
    },
    {
     "name": "stdout",
     "output_type": "stream",
     "text": [
      "\u001b[1m300/300\u001b[0m \u001b[32m━━━━━━━━━━━━━━━━━━━━\u001b[0m\u001b[37m\u001b[0m \u001b[1m1s\u001b[0m 5ms/step - accuracy: 0.9571 - loss: 0.1335 - val_accuracy: 0.9653 - val_loss: 0.1936\n",
      "Epoch 10/100\n",
      "\u001b[1m300/300\u001b[0m \u001b[32m━━━━━━━━━━━━━━━━━━━━\u001b[0m\u001b[37m\u001b[0m \u001b[1m0s\u001b[0m 97us/step - accuracy: 0.0000e+00 - loss: 0.0000e+00 - val_accuracy: 0.9792 - val_loss: 0.0488\n",
      "Epoch 11/100\n",
      "\u001b[1m 33/300\u001b[0m \u001b[32m━━\u001b[0m\u001b[37m━━━━━━━━━━━━━━━━━━\u001b[0m \u001b[1m1s\u001b[0m 5ms/step - accuracy: 0.9722 - loss: 0.0950"
     ]
    },
    {
     "name": "stderr",
     "output_type": "stream",
     "text": [
      "2024-06-23 11:16:59.491261: W tensorflow/core/framework/local_rendezvous.cc:404] Local rendezvous is aborting with status: OUT_OF_RANGE: End of sequence\n",
      "\t [[{{node IteratorGetNext}}]]\n",
      "2024-06-23 11:16:59.499939: W tensorflow/core/framework/local_rendezvous.cc:404] Local rendezvous is aborting with status: OUT_OF_RANGE: End of sequence\n",
      "\t [[{{node IteratorGetNext}}]]\n"
     ]
    },
    {
     "name": "stdout",
     "output_type": "stream",
     "text": [
      "\u001b[1m300/300\u001b[0m \u001b[32m━━━━━━━━━━━━━━━━━━━━\u001b[0m\u001b[37m\u001b[0m \u001b[1m1s\u001b[0m 5ms/step - accuracy: 0.9651 - loss: 0.1113 - val_accuracy: 0.9497 - val_loss: 0.1597\n",
      "Epoch 12/100\n",
      "\u001b[1m300/300\u001b[0m \u001b[32m━━━━━━━━━━━━━━━━━━━━\u001b[0m\u001b[37m\u001b[0m \u001b[1m0s\u001b[0m 120us/step - accuracy: 0.0000e+00 - loss: 0.0000e+00 - val_accuracy: 0.9514 - val_loss: 0.2125\n",
      "Epoch 13/100\n",
      "\u001b[1m 24/300\u001b[0m \u001b[32m━\u001b[0m\u001b[37m━━━━━━━━━━━━━━━━━━━\u001b[0m \u001b[1m1s\u001b[0m 5ms/step - accuracy: 0.9643 - loss: 0.1239"
     ]
    },
    {
     "name": "stderr",
     "output_type": "stream",
     "text": [
      "2024-06-23 11:17:00.921942: W tensorflow/core/framework/local_rendezvous.cc:404] Local rendezvous is aborting with status: OUT_OF_RANGE: End of sequence\n",
      "\t [[{{node IteratorGetNext}}]]\n"
     ]
    },
    {
     "name": "stdout",
     "output_type": "stream",
     "text": [
      "\u001b[1m300/300\u001b[0m \u001b[32m━━━━━━━━━━━━━━━━━━━━\u001b[0m\u001b[37m\u001b[0m \u001b[1m1s\u001b[0m 5ms/step - accuracy: 0.9682 - loss: 0.0985 - val_accuracy: 0.9688 - val_loss: 0.1004\n",
      "Epoch 14/100\n",
      "\u001b[1m300/300\u001b[0m \u001b[32m━━━━━━━━━━━━━━━━━━━━\u001b[0m\u001b[37m\u001b[0m \u001b[1m0s\u001b[0m 122us/step - accuracy: 0.0000e+00 - loss: 0.0000e+00 - val_accuracy: 0.9618 - val_loss: 0.1860\n",
      "Epoch 15/100\n",
      "\u001b[1m 24/300\u001b[0m \u001b[32m━\u001b[0m\u001b[37m━━━━━━━━━━━━━━━━━━━\u001b[0m \u001b[1m1s\u001b[0m 5ms/step - accuracy: 0.9626 - loss: 0.1100"
     ]
    },
    {
     "name": "stderr",
     "output_type": "stream",
     "text": [
      "2024-06-23 11:17:02.344560: W tensorflow/core/framework/local_rendezvous.cc:404] Local rendezvous is aborting with status: OUT_OF_RANGE: End of sequence\n",
      "\t [[{{node IteratorGetNext}}]]\n"
     ]
    },
    {
     "name": "stdout",
     "output_type": "stream",
     "text": [
      "\u001b[1m300/300\u001b[0m \u001b[32m━━━━━━━━━━━━━━━━━━━━\u001b[0m\u001b[37m\u001b[0m \u001b[1m1s\u001b[0m 5ms/step - accuracy: 0.9705 - loss: 0.0940 - val_accuracy: 0.9896 - val_loss: 0.0481\n",
      "Epoch 16/100\n",
      "\u001b[1m300/300\u001b[0m \u001b[32m━━━━━━━━━━━━━━━━━━━━\u001b[0m\u001b[37m\u001b[0m \u001b[1m0s\u001b[0m 121us/step - accuracy: 0.0000e+00 - loss: 0.0000e+00 - val_accuracy: 0.9653 - val_loss: 0.1186\n",
      "Epoch 17/100\n",
      "\u001b[1m 24/300\u001b[0m \u001b[32m━\u001b[0m\u001b[37m━━━━━━━━━━━━━━━━━━━\u001b[0m \u001b[1m1s\u001b[0m 5ms/step - accuracy: 0.9770 - loss: 0.0675"
     ]
    },
    {
     "name": "stderr",
     "output_type": "stream",
     "text": [
      "2024-06-23 11:17:03.735420: W tensorflow/core/framework/local_rendezvous.cc:404] Local rendezvous is aborting with status: OUT_OF_RANGE: End of sequence\n",
      "\t [[{{node IteratorGetNext}}]]\n",
      "2024-06-23 11:17:03.755713: W tensorflow/core/framework/local_rendezvous.cc:404] Local rendezvous is aborting with status: OUT_OF_RANGE: End of sequence\n",
      "\t [[{{node IteratorGetNext}}]]\n"
     ]
    },
    {
     "name": "stdout",
     "output_type": "stream",
     "text": [
      "\u001b[1m300/300\u001b[0m \u001b[32m━━━━━━━━━━━━━━━━━━━━\u001b[0m\u001b[37m\u001b[0m \u001b[1m1s\u001b[0m 5ms/step - accuracy: 0.9744 - loss: 0.0824 - val_accuracy: 0.9583 - val_loss: 0.1790\n",
      "Epoch 18/100\n",
      "\u001b[1m300/300\u001b[0m \u001b[32m━━━━━━━━━━━━━━━━━━━━\u001b[0m\u001b[37m\u001b[0m \u001b[1m0s\u001b[0m 130us/step - accuracy: 0.0000e+00 - loss: 0.0000e+00 - val_accuracy: 0.9688 - val_loss: 0.0921\n",
      "Epoch 19/100\n",
      "\u001b[1m 22/300\u001b[0m \u001b[32m━\u001b[0m\u001b[37m━━━━━━━━━━━━━━━━━━━\u001b[0m \u001b[1m1s\u001b[0m 5ms/step - accuracy: 0.9840 - loss: 0.0551"
     ]
    },
    {
     "name": "stderr",
     "output_type": "stream",
     "text": [
      "2024-06-23 11:17:05.209833: W tensorflow/core/framework/local_rendezvous.cc:404] Local rendezvous is aborting with status: OUT_OF_RANGE: End of sequence\n",
      "\t [[{{node IteratorGetNext}}]]\n"
     ]
    },
    {
     "name": "stdout",
     "output_type": "stream",
     "text": [
      "\u001b[1m300/300\u001b[0m \u001b[32m━━━━━━━━━━━━━━━━━━━━\u001b[0m\u001b[37m\u001b[0m \u001b[1m2s\u001b[0m 5ms/step - accuracy: 0.9780 - loss: 0.0715 - val_accuracy: 0.9583 - val_loss: 0.1681\n",
      "Epoch 20/100\n",
      "\u001b[1m300/300\u001b[0m \u001b[32m━━━━━━━━━━━━━━━━━━━━\u001b[0m\u001b[37m\u001b[0m \u001b[1m0s\u001b[0m 85us/step - accuracy: 0.0000e+00 - loss: 0.0000e+00 - val_accuracy: 0.9792 - val_loss: 0.0449\n",
      "Epoch 21/100\n",
      "\u001b[1m 36/300\u001b[0m \u001b[32m━━\u001b[0m\u001b[37m━━━━━━━━━━━━━━━━━━\u001b[0m \u001b[1m1s\u001b[0m 5ms/step - accuracy: 0.9799 - loss: 0.0578"
     ]
    },
    {
     "name": "stderr",
     "output_type": "stream",
     "text": [
      "2024-06-23 11:17:06.859210: W tensorflow/core/framework/local_rendezvous.cc:404] Local rendezvous is aborting with status: OUT_OF_RANGE: End of sequence\n",
      "\t [[{{node IteratorGetNext}}]]\n",
      "2024-06-23 11:17:06.866349: W tensorflow/core/framework/local_rendezvous.cc:404] Local rendezvous is aborting with status: OUT_OF_RANGE: End of sequence\n",
      "\t [[{{node IteratorGetNext}}]]\n"
     ]
    },
    {
     "name": "stdout",
     "output_type": "stream",
     "text": [
      "\u001b[1m300/300\u001b[0m \u001b[32m━━━━━━━━━━━━━━━━━━━━\u001b[0m\u001b[37m\u001b[0m \u001b[1m2s\u001b[0m 5ms/step - accuracy: 0.9775 - loss: 0.0631 - val_accuracy: 0.9635 - val_loss: 0.1594\n",
      "Epoch 22/100\n",
      "\u001b[1m300/300\u001b[0m \u001b[32m━━━━━━━━━━━━━━━━━━━━\u001b[0m\u001b[37m\u001b[0m \u001b[1m0s\u001b[0m 121us/step - accuracy: 0.0000e+00 - loss: 0.0000e+00 - val_accuracy: 0.9618 - val_loss: 0.1779\n",
      "Epoch 23/100\n",
      "\u001b[1m 24/300\u001b[0m \u001b[32m━\u001b[0m\u001b[37m━━━━━━━━━━━━━━━━━━━\u001b[0m \u001b[1m1s\u001b[0m 5ms/step - accuracy: 0.9793 - loss: 0.0586"
     ]
    },
    {
     "name": "stderr",
     "output_type": "stream",
     "text": [
      "2024-06-23 11:17:08.395149: W tensorflow/core/framework/local_rendezvous.cc:404] Local rendezvous is aborting with status: OUT_OF_RANGE: End of sequence\n",
      "\t [[{{node IteratorGetNext}}]]\n"
     ]
    },
    {
     "name": "stdout",
     "output_type": "stream",
     "text": [
      "\u001b[1m300/300\u001b[0m \u001b[32m━━━━━━━━━━━━━━━━━━━━\u001b[0m\u001b[37m\u001b[0m \u001b[1m1s\u001b[0m 5ms/step - accuracy: 0.9780 - loss: 0.0632 - val_accuracy: 0.9653 - val_loss: 0.0919\n",
      "Epoch 24/100\n",
      "\u001b[1m300/300\u001b[0m \u001b[32m━━━━━━━━━━━━━━━━━━━━\u001b[0m\u001b[37m\u001b[0m \u001b[1m0s\u001b[0m 121us/step - accuracy: 0.0000e+00 - loss: 0.0000e+00 - val_accuracy: 0.9601 - val_loss: 0.1610\n",
      "Epoch 25/100\n",
      "\u001b[1m 24/300\u001b[0m \u001b[32m━\u001b[0m\u001b[37m━━━━━━━━━━━━━━━━━━━\u001b[0m \u001b[1m1s\u001b[0m 5ms/step - accuracy: 0.9800 - loss: 0.0819"
     ]
    },
    {
     "name": "stderr",
     "output_type": "stream",
     "text": [
      "2024-06-23 11:17:09.815098: W tensorflow/core/framework/local_rendezvous.cc:404] Local rendezvous is aborting with status: OUT_OF_RANGE: End of sequence\n",
      "\t [[{{node IteratorGetNext}}]]\n"
     ]
    },
    {
     "name": "stdout",
     "output_type": "stream",
     "text": [
      "\u001b[1m300/300\u001b[0m \u001b[32m━━━━━━━━━━━━━━━━━━━━\u001b[0m\u001b[37m\u001b[0m \u001b[1m1s\u001b[0m 5ms/step - accuracy: 0.9816 - loss: 0.0589 - val_accuracy: 1.0000 - val_loss: 0.0284\n",
      "Epoch 26/100\n",
      "\u001b[1m300/300\u001b[0m \u001b[32m━━━━━━━━━━━━━━━━━━━━\u001b[0m\u001b[37m\u001b[0m \u001b[1m0s\u001b[0m 123us/step - accuracy: 0.0000e+00 - loss: 0.0000e+00 - val_accuracy: 0.9670 - val_loss: 0.1312\n",
      "Epoch 27/100\n",
      "\u001b[1m 23/300\u001b[0m \u001b[32m━\u001b[0m\u001b[37m━━━━━━━━━━━━━━━━━━━\u001b[0m \u001b[1m1s\u001b[0m 5ms/step - accuracy: 0.9856 - loss: 0.0349"
     ]
    },
    {
     "name": "stderr",
     "output_type": "stream",
     "text": [
      "2024-06-23 11:17:11.207950: W tensorflow/core/framework/local_rendezvous.cc:404] Local rendezvous is aborting with status: OUT_OF_RANGE: End of sequence\n",
      "\t [[{{node IteratorGetNext}}]]\n",
      "2024-06-23 11:17:11.228267: W tensorflow/core/framework/local_rendezvous.cc:404] Local rendezvous is aborting with status: OUT_OF_RANGE: End of sequence\n",
      "\t [[{{node IteratorGetNext}}]]\n"
     ]
    },
    {
     "name": "stdout",
     "output_type": "stream",
     "text": [
      "\u001b[1m300/300\u001b[0m \u001b[32m━━━━━━━━━━━━━━━━━━━━\u001b[0m\u001b[37m\u001b[0m \u001b[1m1s\u001b[0m 5ms/step - accuracy: 0.9836 - loss: 0.0513 - val_accuracy: 0.9705 - val_loss: 0.1506\n",
      "Epoch 28/100\n",
      "\u001b[1m300/300\u001b[0m \u001b[32m━━━━━━━━━━━━━━━━━━━━\u001b[0m\u001b[37m\u001b[0m \u001b[1m0s\u001b[0m 122us/step - accuracy: 0.0000e+00 - loss: 0.0000e+00 - val_accuracy: 0.9722 - val_loss: 0.0850\n",
      "Epoch 29/100\n",
      "\u001b[1m 33/300\u001b[0m \u001b[32m━━\u001b[0m\u001b[37m━━━━━━━━━━━━━━━━━━\u001b[0m \u001b[1m1s\u001b[0m 5ms/step - accuracy: 0.9874 - loss: 0.0522"
     ]
    },
    {
     "name": "stderr",
     "output_type": "stream",
     "text": [
      "2024-06-23 11:17:12.670742: W tensorflow/core/framework/local_rendezvous.cc:404] Local rendezvous is aborting with status: OUT_OF_RANGE: End of sequence\n",
      "\t [[{{node IteratorGetNext}}]]\n"
     ]
    },
    {
     "name": "stdout",
     "output_type": "stream",
     "text": [
      "\u001b[1m300/300\u001b[0m \u001b[32m━━━━━━━━━━━━━━━━━━━━\u001b[0m\u001b[37m\u001b[0m \u001b[1m1s\u001b[0m 5ms/step - accuracy: 0.9858 - loss: 0.0479 - val_accuracy: 0.9549 - val_loss: 0.1850\n",
      "Epoch 30/100\n",
      "\u001b[1m300/300\u001b[0m \u001b[32m━━━━━━━━━━━━━━━━━━━━\u001b[0m\u001b[37m\u001b[0m \u001b[1m0s\u001b[0m 87us/step - accuracy: 0.0000e+00 - loss: 0.0000e+00 - val_accuracy: 0.9896 - val_loss: 0.0867\n",
      "Epoch 31/100\n",
      "\u001b[1m 35/300\u001b[0m \u001b[32m━━\u001b[0m\u001b[37m━━━━━━━━━━━━━━━━━━\u001b[0m \u001b[1m1s\u001b[0m 5ms/step - accuracy: 0.9880 - loss: 0.0309"
     ]
    },
    {
     "name": "stderr",
     "output_type": "stream",
     "text": [
      "2024-06-23 11:17:14.129431: W tensorflow/core/framework/local_rendezvous.cc:404] Local rendezvous is aborting with status: OUT_OF_RANGE: End of sequence\n",
      "\t [[{{node IteratorGetNext}}]]\n",
      "2024-06-23 11:17:14.136915: W tensorflow/core/framework/local_rendezvous.cc:404] Local rendezvous is aborting with status: OUT_OF_RANGE: End of sequence\n",
      "\t [[{{node IteratorGetNext}}]]\n"
     ]
    },
    {
     "name": "stdout",
     "output_type": "stream",
     "text": [
      "\u001b[1m300/300\u001b[0m \u001b[32m━━━━━━━━━━━━━━━━━━━━\u001b[0m\u001b[37m\u001b[0m \u001b[1m1s\u001b[0m 5ms/step - accuracy: 0.9869 - loss: 0.0411 - val_accuracy: 0.9705 - val_loss: 0.1151\n",
      "Epoch 32/100\n",
      "\u001b[1m300/300\u001b[0m \u001b[32m━━━━━━━━━━━━━━━━━━━━\u001b[0m\u001b[37m\u001b[0m \u001b[1m0s\u001b[0m 121us/step - accuracy: 0.0000e+00 - loss: 0.0000e+00 - val_accuracy: 0.9670 - val_loss: 0.1543\n",
      "Epoch 33/100\n",
      "\u001b[1m 24/300\u001b[0m \u001b[32m━\u001b[0m\u001b[37m━━━━━━━━━━━━━━━━━━━\u001b[0m \u001b[1m1s\u001b[0m 5ms/step - accuracy: 0.9856 - loss: 0.0480"
     ]
    },
    {
     "name": "stderr",
     "output_type": "stream",
     "text": [
      "2024-06-23 11:17:15.561461: W tensorflow/core/framework/local_rendezvous.cc:404] Local rendezvous is aborting with status: OUT_OF_RANGE: End of sequence\n",
      "\t [[{{node IteratorGetNext}}]]\n"
     ]
    },
    {
     "name": "stdout",
     "output_type": "stream",
     "text": [
      "\u001b[1m300/300\u001b[0m \u001b[32m━━━━━━━━━━━━━━━━━━━━\u001b[0m\u001b[37m\u001b[0m \u001b[1m1s\u001b[0m 5ms/step - accuracy: 0.9874 - loss: 0.0390 - val_accuracy: 0.9740 - val_loss: 0.0969\n",
      "Epoch 34/100\n",
      "\u001b[1m300/300\u001b[0m \u001b[32m━━━━━━━━━━━━━━━━━━━━\u001b[0m\u001b[37m\u001b[0m \u001b[1m0s\u001b[0m 122us/step - accuracy: 0.0000e+00 - loss: 0.0000e+00 - val_accuracy: 0.9601 - val_loss: 0.1496\n",
      "Epoch 35/100\n",
      "\u001b[1m 24/300\u001b[0m \u001b[32m━\u001b[0m\u001b[37m━━━━━━━━━━━━━━━━━━━\u001b[0m \u001b[1m1s\u001b[0m 5ms/step - accuracy: 0.9896 - loss: 0.0221"
     ]
    },
    {
     "name": "stderr",
     "output_type": "stream",
     "text": [
      "2024-06-23 11:17:16.997988: W tensorflow/core/framework/local_rendezvous.cc:404] Local rendezvous is aborting with status: OUT_OF_RANGE: End of sequence\n",
      "\t [[{{node IteratorGetNext}}]]\n"
     ]
    },
    {
     "name": "stdout",
     "output_type": "stream",
     "text": [
      "\u001b[1m300/300\u001b[0m \u001b[32m━━━━━━━━━━━━━━━━━━━━\u001b[0m\u001b[37m\u001b[0m \u001b[1m1s\u001b[0m 5ms/step - accuracy: 0.9858 - loss: 0.0402 - val_accuracy: 0.9896 - val_loss: 0.0517\n",
      "Epoch 36/100\n",
      "\u001b[1m300/300\u001b[0m \u001b[32m━━━━━━━━━━━━━━━━━━━━\u001b[0m\u001b[37m\u001b[0m \u001b[1m0s\u001b[0m 123us/step - accuracy: 0.0000e+00 - loss: 0.0000e+00 - val_accuracy: 0.9670 - val_loss: 0.1279\n",
      "Epoch 37/100\n",
      "\u001b[1m 24/300\u001b[0m \u001b[32m━\u001b[0m\u001b[37m━━━━━━━━━━━━━━━━━━━\u001b[0m \u001b[1m1s\u001b[0m 5ms/step - accuracy: 0.9890 - loss: 0.0308"
     ]
    },
    {
     "name": "stderr",
     "output_type": "stream",
     "text": [
      "2024-06-23 11:17:18.410071: W tensorflow/core/framework/local_rendezvous.cc:404] Local rendezvous is aborting with status: OUT_OF_RANGE: End of sequence\n",
      "\t [[{{node IteratorGetNext}}]]\n",
      "2024-06-23 11:17:18.430428: W tensorflow/core/framework/local_rendezvous.cc:404] Local rendezvous is aborting with status: OUT_OF_RANGE: End of sequence\n",
      "\t [[{{node IteratorGetNext}}]]\n"
     ]
    },
    {
     "name": "stdout",
     "output_type": "stream",
     "text": [
      "\u001b[1m300/300\u001b[0m \u001b[32m━━━━━━━━━━━━━━━━━━━━\u001b[0m\u001b[37m\u001b[0m \u001b[1m1s\u001b[0m 5ms/step - accuracy: 0.9884 - loss: 0.0357 - val_accuracy: 0.9635 - val_loss: 0.1403\n",
      "Epoch 38/100\n",
      "\u001b[1m300/300\u001b[0m \u001b[32m━━━━━━━━━━━━━━━━━━━━\u001b[0m\u001b[37m\u001b[0m \u001b[1m0s\u001b[0m 122us/step - accuracy: 0.0000e+00 - loss: 0.0000e+00 - val_accuracy: 0.9740 - val_loss: 0.0715\n",
      "Epoch 39/100\n",
      "\u001b[1m 24/300\u001b[0m \u001b[32m━\u001b[0m\u001b[37m━━━━━━━━━━━━━━━━━━━\u001b[0m \u001b[1m1s\u001b[0m 5ms/step - accuracy: 0.9817 - loss: 0.0486"
     ]
    },
    {
     "name": "stderr",
     "output_type": "stream",
     "text": [
      "2024-06-23 11:17:19.909132: W tensorflow/core/framework/local_rendezvous.cc:404] Local rendezvous is aborting with status: OUT_OF_RANGE: End of sequence\n",
      "\t [[{{node IteratorGetNext}}]]\n"
     ]
    },
    {
     "name": "stdout",
     "output_type": "stream",
     "text": [
      "\u001b[1m300/300\u001b[0m \u001b[32m━━━━━━━━━━━━━━━━━━━━\u001b[0m\u001b[37m\u001b[0m \u001b[1m1s\u001b[0m 5ms/step - accuracy: 0.9889 - loss: 0.0339 - val_accuracy: 0.9601 - val_loss: 0.1474\n",
      "Epoch 40/100\n",
      "\u001b[1m300/300\u001b[0m \u001b[32m━━━━━━━━━━━━━━━━━━━━\u001b[0m\u001b[37m\u001b[0m \u001b[1m0s\u001b[0m 85us/step - accuracy: 0.0000e+00 - loss: 0.0000e+00 - val_accuracy: 0.9896 - val_loss: 0.0496\n"
     ]
    },
    {
     "name": "stderr",
     "output_type": "stream",
     "text": [
      "2024-06-23 11:17:21.345634: W tensorflow/core/framework/local_rendezvous.cc:404] Local rendezvous is aborting with status: OUT_OF_RANGE: End of sequence\n",
      "\t [[{{node IteratorGetNext}}]]\n",
      "2024-06-23 11:17:21.352867: W tensorflow/core/framework/local_rendezvous.cc:404] Local rendezvous is aborting with status: OUT_OF_RANGE: End of sequence\n",
      "\t [[{{node IteratorGetNext}}]]\n"
     ]
    }
   ],
   "source": [
    "history_1 = model_1.fit(train_data,\n",
    "                        epochs = 100,\n",
    "                        steps_per_epoch = len(train_data),\n",
    "                        validation_data = test_data,\n",
    "                        validation_steps = int(0.25 * len(test_data)),\n",
    "                        callbacks = [create_tensorboard(filepath = \"./callback_examples/callbacks_tensorboard\", exp_name = \"model_1\"),\n",
    "                                     create_earlystopping_callback(metric = \"val_loss\", patience = 15),\n",
    "                                     create_checkpoint_callback(experiment = \"model_1\", monitor=\"val_loss\", patience = 15)]\n",
    "                       )"
   ]
  },
  {
   "cell_type": "code",
   "execution_count": null,
   "id": "b1c0f27e-30b2-4cd1-af9b-d7e3b72f7872",
   "metadata": {},
   "outputs": [],
   "source": []
  }
 ],
 "metadata": {
  "kernelspec": {
   "display_name": "Python 3 (ipykernel)",
   "language": "python",
   "name": "python3"
  },
  "language_info": {
   "codemirror_mode": {
    "name": "ipython",
    "version": 3
   },
   "file_extension": ".py",
   "mimetype": "text/x-python",
   "name": "python",
   "nbconvert_exporter": "python",
   "pygments_lexer": "ipython3",
   "version": "3.9.13"
  }
 },
 "nbformat": 4,
 "nbformat_minor": 5
}
