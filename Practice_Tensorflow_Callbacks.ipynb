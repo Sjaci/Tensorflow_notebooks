{
 "cells": [
  {
   "cell_type": "markdown",
   "id": "9ccf3dab",
   "metadata": {},
   "source": [
    "# Tensorflow Callbacks\n",
    "\n",
    "Callbacks helps in preventing overfitting, to visualize training process, save checkpoints, debug the code etc..\n",
    "\n",
    "\n",
    "\n",
    "\n",
    "Callbacks can be passed to keras methods such as fit, evaluate, and predict in order to hook into the various stages of the model training and inference lifecycle."
   ]
  },
  {
   "cell_type": "code",
   "execution_count": 1,
   "id": "27112f59",
   "metadata": {},
   "outputs": [
    {
     "name": "stderr",
     "output_type": "stream",
     "text": [
      "/Users/jacindhas/anaconda3/lib/python3.10/site-packages/tqdm/auto.py:22: TqdmWarning: IProgress not found. Please update jupyter and ipywidgets. See https://ipywidgets.readthedocs.io/en/stable/user_install.html\n",
      "  from .autonotebook import tqdm as notebook_tqdm\n"
     ]
    }
   ],
   "source": [
    "# Import necessary libraries\n",
    "import tensorflow as tf\n",
    "import tensorflow_datasets as tfdt\n",
    "import matplotlib.pyplot as plt\n",
    "from tensorflow.keras.preprocessing.image import ImageDataGenerator"
   ]
  },
  {
   "cell_type": "markdown",
   "id": "1c9a8f60",
   "metadata": {},
   "source": [
    "Load the dataset for our experiment"
   ]
  },
  {
   "cell_type": "code",
   "execution_count": 2,
   "id": "2f5c3ebb",
   "metadata": {},
   "outputs": [],
   "source": [
    "data, info = tfdt.load('mnist', split = 'train[80%:]', with_info = True, as_supervised = True)"
   ]
  },
  {
   "cell_type": "code",
   "execution_count": 3,
   "id": "7fb9b5d1",
   "metadata": {},
   "outputs": [
    {
     "name": "stderr",
     "output_type": "stream",
     "text": [
      "2024-01-27 16:51:36.196047: W tensorflow/core/kernels/data/cache_dataset_ops.cc:858] The calling iterator did not fully read the dataset being cached. In order to avoid unexpected truncation of the dataset, the partially cached contents of the dataset  will be discarded. This can happen if you have an input pipeline similar to `dataset.cache().take(k).repeat()`. You should use `dataset.take(k).cache().repeat()` instead.\n"
     ]
    },
    {
     "data": {
      "text/html": [
       "<style type=\"text/css\">\n",
       "</style>\n",
       "<table id=\"T_3d32d\">\n",
       "  <thead>\n",
       "    <tr>\n",
       "      <th class=\"blank level0\" >&nbsp;</th>\n",
       "      <th id=\"T_3d32d_level0_col0\" class=\"col_heading level0 col0\" >image</th>\n",
       "      <th id=\"T_3d32d_level0_col1\" class=\"col_heading level0 col1\" >label</th>\n",
       "    </tr>\n",
       "  </thead>\n",
       "  <tbody>\n",
       "    <tr>\n",
       "      <th id=\"T_3d32d_level0_row0\" class=\"row_heading level0 row0\" >0</th>\n",
       "      <td id=\"T_3d32d_row0_col0\" class=\"data row0 col0\" ><img src=\"data:image/png;base64,iVBORw0KGgoAAAANSUhEUgAAABwAAAAcCAAAAABXZoBIAAABAElEQVR4nNXRr0tDYRTG8Wdydze4wYmguKAGhTlQixoGBmcbGFZMFpPokoiCGLT4XxgEk16TZTBwzSYIU4bJZDC4tDDwx/eaZPedx2D0tPN+Duc9532l/xQJN83OzQ7NVB6syv6VBsDJd+51e+TCgREp+tCnX+rUIqf/IcDdRlHB6jstL26ah8etJV9KHQC77n0B5CXJC+FlMeniDtwOSsEFvKZ7Jx0Dbgr+OYSTPxfebEPjGI5S1pajTYBL3zKpDLBgmxJnwF6fjekngEz3IF43PS5JeRu31VmTlm1s6arqfGEcy5pYj3RvD9QEuDbfQJp65u00Y5s0vF/P/WZ/iy8JeWDGDmjRCwAAAABJRU5ErkJggg==\" alt=\"Img\" /></td>\n",
       "      <td id=\"T_3d32d_row0_col1\" class=\"data row0 col1\" >8</td>\n",
       "    </tr>\n",
       "    <tr>\n",
       "      <th id=\"T_3d32d_level0_row1\" class=\"row_heading level0 row1\" >1</th>\n",
       "      <td id=\"T_3d32d_row1_col0\" class=\"data row1 col0\" ><img src=\"data:image/png;base64,iVBORw0KGgoAAAANSUhEUgAAABwAAAAcCAAAAABXZoBIAAAAwElEQVR4nGNgGHjAW/nvnxIuyVl///4tPfvqvi42yaV/IaAEU4p/zou/f//+vXSsUAZTMuLv379vFgUJYTOT9eLfP29Mcbhmwd+/s3C51ODd3xdGuCRf/t0vhiLAhGBmCzP8fIVLUpyRgZcXl6l6r//+3WOFx0F/tznhki199vfvN1ySDD54JL3P4JRUrPrx9++3Agy7pHi12jbf/Pv305ViDD3/bu76+/fv37+73LAY+O/v379//24r4cHpUvoBAKJUXVZEJ48LAAAAAElFTkSuQmCC\" alt=\"Img\" /></td>\n",
       "      <td id=\"T_3d32d_row1_col1\" class=\"data row1 col1\" >5</td>\n",
       "    </tr>\n",
       "    <tr>\n",
       "      <th id=\"T_3d32d_level0_row2\" class=\"row_heading level0 row2\" >2</th>\n",
       "      <td id=\"T_3d32d_row2_col0\" class=\"data row2 col0\" ><img src=\"data:image/png;base64,iVBORw0KGgoAAAANSUhEUgAAABwAAAAcCAAAAABXZoBIAAAA+0lEQVR4nMWPvyuFYRTHv2/33vxM2aTIoDBQbzGRrsWMZJSyGMRivAv/hW7ZblmUxIa3LpuJa2CQkom6hW7i+hyWt9dD77PyXc5zzuf5fk9H+j/lCrVPuy6Wi0MpME+sG2eYjetzJEkaaW33hnfcW+RjXYew4mFhFRaz6WzhFpY8vsF3eBj3wA0wPk5We9Jg224FgPpyqrcxDNcr8LYz7AnX3IXxNOCjLXuwGTiDzGTzd9MJNLm/OehLmgJ2nvsBOZuK3zM1mHf3BLOPVt/uloLR/VdjzTVKyt/By/FRZGBbv5jUWzIMjNOxTBKY0IbpCan/6rJU9R35J/oCh3xuBRXwoQEAAAAASUVORK5CYII=\" alt=\"Img\" /></td>\n",
       "      <td id=\"T_3d32d_row2_col1\" class=\"data row2 col1\" >3</td>\n",
       "    </tr>\n",
       "    <tr>\n",
       "      <th id=\"T_3d32d_level0_row3\" class=\"row_heading level0 row3\" >3</th>\n",
       "      <td id=\"T_3d32d_row3_col0\" class=\"data row3 col0\" ><img src=\"data:image/png;base64,iVBORw0KGgoAAAANSUhEUgAAABwAAAAcCAAAAABXZoBIAAAA90lEQVR4nNWQsUtCURyFj2IY5RARJUGBQ4tTQWjQGLTZ0HMIoaVNHPo3HFwiWnIpgvZ4S9Af0GQQDpG5hWKESLRI8lmD3np034XWvunw+zgH7pX+IZG4dz/8HF4cTNgufgQw+ICnlCU9GFQPC6U+NCxbhhNJytXg8uccM+FOkvz+tTILL+YWNWHWhNT+r9ksPM9IUvIRzr7Po2b9VYs3m5I6VyHvTPtQq24sFbrBpmH9FqAJ0Jq37GSlzZjlkOmVrOf7uw+wFSJHFOHUKTM9unNOW4ftcYxa8ljaWXM19+D9bVpS4OODTCniaMbOgYRrd7VH3tX8K18km2VtmgoCuwAAAABJRU5ErkJggg==\" alt=\"Img\" /></td>\n",
       "      <td id=\"T_3d32d_row3_col1\" class=\"data row3 col1\" >9</td>\n",
       "    </tr>\n",
       "  </tbody>\n",
       "</table>\n"
      ],
      "text/plain": [
       "                                               image  label\n",
       "0  [[[0], [0], [0], [0], [0], [0], [0], [0], [0],...      8\n",
       "1  [[[0], [0], [0], [0], [0], [0], [0], [0], [0],...      5\n",
       "2  [[[0], [0], [0], [0], [0], [0], [0], [0], [0],...      3\n",
       "3  [[[0], [0], [0], [0], [0], [0], [0], [0], [0],...      9"
      ]
     },
     "execution_count": 3,
     "metadata": {},
     "output_type": "execute_result"
    }
   ],
   "source": [
    "tfdt.as_dataframe(data.take(4),info)"
   ]
  },
  {
   "cell_type": "code",
   "execution_count": 4,
   "id": "4eba1fc1",
   "metadata": {},
   "outputs": [
    {
     "name": "stderr",
     "output_type": "stream",
     "text": [
      "2024-01-27 16:51:36.379065: W tensorflow/core/kernels/data/cache_dataset_ops.cc:858] The calling iterator did not fully read the dataset being cached. In order to avoid unexpected truncation of the dataset, the partially cached contents of the dataset  will be discarded. This can happen if you have an input pipeline similar to `dataset.cache().take(k).repeat()`. You should use `dataset.take(k).cache().repeat()` instead.\n"
     ]
    },
    {
     "data": {
      "image/png": "[encoded data removed]",
      "text/plain": [
       "<Figure size 900x900 with 9 Axes>"
      ]
     },
     "metadata": {},
     "output_type": "display_data"
    }
   ],
   "source": [
    "fig = tfdt.show_examples(data, info)"
   ]
  },
  {
   "cell_type": "code",
   "execution_count": 5,
   "id": "c457d51a",
   "metadata": {},
   "outputs": [
    {
     "name": "stdout",
     "output_type": "stream",
     "text": [
      "Number of labels: 10\n",
      "Label names: ['0', '1', '2', '3', '4', '5', '6', '7', '8', '9']\n",
      "Image shape: (28, 28, 1)\n",
      "The index 7 corresponds to digit 7\n",
      "The digit 9 corresponds to index 9\n"
     ]
    }
   ],
   "source": [
    "print(f\"Number of labels: {info.features['label'].num_classes}\")\n",
    "print(f\"Label names: {info.features['label'].names}\")\n",
    "print(f\"Image shape: {info.features['image'].shape}\")\n",
    "\n",
    "print(f\"The index 7 corresponds to digit {info.features['label'].int2str(7)}\")\n",
    "print(f\"The digit 9 corresponds to index {info.features['label'].str2int('9')}\")"
   ]
  },
  {
   "cell_type": "code",
   "execution_count": 6,
   "id": "66604049",
   "metadata": {},
   "outputs": [
    {
     "name": "stdout",
     "output_type": "stream",
     "text": [
      "Training images : 9600\n",
      "Testing images : 2400\n"
     ]
    }
   ],
   "source": [
    "# Set the variables\n",
    "\n",
    "IMAGE_SIZE = (28,28)\n",
    "BATCH_SIZE = 32\n",
    "EPOCHS = 5\n",
    "\n",
    "# Divide the dataset into training and test\n",
    "training_split = data.take(int(len(data)*0.8))\n",
    "testing_split = data.skip(int(len(data)*0.8))\n",
    "\n",
    "print(f\"Training images : {len(training_split)}\")\n",
    "print(f\"Testing images : {len(testing_split)}\")"
   ]
  },
  {
   "cell_type": "code",
   "execution_count": 7,
   "id": "b208f6d3",
   "metadata": {},
   "outputs": [],
   "source": [
    "# Since we have the images with use in dataframe, we will be manually rescaling them and dividing them to batches.\n",
    "\n",
    "rescale_layer = tf.keras.layers.Rescaling(1/255.)\n",
    "\n",
    "#Building training pipeline\n",
    "#1. scale the dataset\n",
    "train_data = training_split.map(lambda x,y: (rescale_layer(x, training=True), y))\n",
    "#2. Cache the dataset for better performance\n",
    "train_data = train_data.cache()\n",
    "#3. Suffle the data\n",
    "train_data = train_data.shuffle(len(train_data))\n",
    "#4. Divide the data into batches\n",
    "train_data = train_data.batch(batch_size = 32)\n",
    "#5. End with prefetch for better performance\n",
    "train_data = train_data.prefetch(buffer_size = tf.data.AUTOTUNE) #AUTOTUNE helps in dynamic tunning based on available resources.\n",
    "\n",
    "\n",
    "# Similarly building testing pipeline\n",
    "test_data = testing_split.map(lambda x,y: (rescale_layer(x, training=True), y))\n",
    "test_data = test_data.cache()\n",
    "test_data = test_data.batch(batch_size = 32)\n",
    "test_data = test_data.prefetch(buffer_size = tf.data.AUTOTUNE)\n",
    "\n"
   ]
  },
  {
   "cell_type": "markdown",
   "id": "9957eee7",
   "metadata": {},
   "source": [
    "\n",
    "## tf.keras.callbacks.ModelCheckpoint \n",
    "\n",
    "Callback to save the Keras model or model weights at some frequency.\n",
    "\n",
    "From Docs:\n",
    "ModelCheckpoint callback is used in conjunction with training using model.fit() to save a model or weights (in a checkpoint file) at some interval, so the model or weights can be loaded later to continue the training from the state saved.\n",
    "\n",
    "https://www.tensorflow.org/api_docs/python/tf/keras/callbacks/ModelCheckpoint\n"
   ]
  },
  {
   "cell_type": "code",
   "execution_count": null,
   "id": "ccd45bad",
   "metadata": {},
   "outputs": [],
   "source": [
    "import datetime\n",
    "\n",
    "mc_callback_directory = './callback_examples/model_checkpoint/' + datetime.datetime.now().strftime(\"%Y%m%d-%H%M%S\")"
   ]
  },
  {
   "cell_type": "code",
   "execution_count": null,
   "id": "8d586796",
   "metadata": {},
   "outputs": [],
   "source": [
    "checkpoint_callback = tf.keras.callbacks.ModelCheckpoint(\n",
    "    filepath = mc_callback_directory,\n",
    "    save_weight_only = True,\n",
    "    monitor='val_accuracy',\n",
    "    mode='max')"
   ]
  },
  {
   "cell_type": "code",
   "execution_count": null,
   "id": "dfa376c7",
   "metadata": {},
   "outputs": [],
   "source": [
    "# Create a model\n",
    "model_1 = tf.keras.layers.Sequential([\n",
    "    tf.keras.layers.flatten()\n",
    "    tf.keras.layers.Conv2D()\n",
    "    tf.keras.layers.Dense(10, activation)\n",
    "])"
   ]
  }
 ],
 "metadata": {
  "kernelspec": {
   "display_name": "Python 3 (ipykernel)",
   "language": "python",
   "name": "python3"
  },
  "language_info": {
   "codemirror_mode": {
    "name": "ipython",
    "version": 3
   },
   "file_extension": ".py",
   "mimetype": "text/x-python",
   "name": "python",
   "nbconvert_exporter": "python",
   "pygments_lexer": "ipython3",
   "version": "3.10.9"
  }
 },
 "nbformat": 4,
 "nbformat_minor": 5
}
